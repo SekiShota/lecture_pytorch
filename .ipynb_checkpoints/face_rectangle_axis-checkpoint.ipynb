{
 "cells": [
  {
   "cell_type": "code",
   "execution_count": 52,
   "id": "ad64b960",
   "metadata": {},
   "outputs": [],
   "source": [
    "#Dlibで顔部分を切り抜き\n",
    "import cv2, dlib, sys, glob, pprint\n",
    "import matplotlib.pyplot as plt\n",
    "\n",
    "#Dlibを始める\n",
    "detector=dlib.get_frontal_face_detector()\n",
    "\n",
    "#入力画像をリサイズするか\n",
    "flag_resize=False\n",
    "\n",
    "images=[]\n",
    "daxis=[]\n",
    "\n",
    "#顔画像を取得して保存\n",
    "def get_face_rect(fname):\n",
    "    img=cv2.imread(fname)\n",
    "    \n",
    "    #サイズが大きければリサイズ\n",
    "    if flag_resize:\n",
    "        img=cv2.resize(img, None, fx=0.2, fy=0.2,)\n",
    "\n",
    "    #顔検出\n",
    "    dets=detector(img,1)\n",
    "    for k,d in enumerate(dets):\n",
    "        daxis.append(d)\n",
    "        x1=int(d.left())\n",
    "        y1=int(d.top())\n",
    "        x2=int(d.right())\n",
    "        y2=int(d.bottom())\n",
    "        im=img[y1:y2, x1:x2]\n",
    "        try:\n",
    "            im=cv2.resize(im, (64,64))\n",
    "        except:\n",
    "            continue\n",
    "#         cv2.rectangle(img, (x1, y1), (x2, y2), color=(0,0,255), thickness=4)\n",
    "        images.append(im)\n",
    "#         plt.imshow(images[k])\n",
    "#         plt.show()\n",
    "#         cv2.imwrite(\"test.jpg\", img)\n",
    "        \n",
    "    return images,daxis"
   ]
  },
  {
   "cell_type": "code",
   "execution_count": 54,
   "id": "5224623d",
   "metadata": {},
   "outputs": [],
   "source": [
    "# fname=\"./images/kyonko_test/kyonko_otake.jpg\"\n",
    "# images, daxis=get_face_rect(fname)"
   ]
  },
  {
   "cell_type": "code",
   "execution_count": 50,
   "id": "22983684",
   "metadata": {},
   "outputs": [],
   "source": [
    "# i=0\n",
    "# print(daxis[i])\n",
    "# plt.imshow(images[i])\n",
    "# plt.show()"
   ]
  },
  {
   "cell_type": "code",
   "execution_count": null,
   "id": "2d1f96f6",
   "metadata": {},
   "outputs": [],
   "source": []
  }
 ],
 "metadata": {
  "kernelspec": {
   "display_name": "Python 3 (ipykernel)",
   "language": "python",
   "name": "python3"
  },
  "language_info": {
   "codemirror_mode": {
    "name": "ipython",
    "version": 3
   },
   "file_extension": ".py",
   "mimetype": "text/x-python",
   "name": "python",
   "nbconvert_exporter": "python",
   "pygments_lexer": "ipython3",
   "version": "3.9.13"
  }
 },
 "nbformat": 4,
 "nbformat_minor": 5
}
